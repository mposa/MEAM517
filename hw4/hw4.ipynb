{
  "nbformat": 4,
  "nbformat_minor": 0,
  "metadata": {
    "colab": {
      "name": "hw4.ipynb",
      "provenance": [],
      "collapsed_sections": [],
      "toc_visible": true
    },
    "kernelspec": {
      "name": "python3",
      "display_name": "Python 3"
    }
  },
  "cells": [
    {
      "cell_type": "code",
      "metadata": {
        "id": "XCY4FiqEum4A"
      },
      "source": [
        "! rm -rf sample_data; curl -s https://raw.githubusercontent.com/mposa/MEAM517/master/sync_hw.py > sync_hw.py\n",
        "files = [\"pos_constraints.py\", \"minsnap.py\"]\n",
        "\n",
        "from sync_hw import sync_hw\n",
        "sync_hw(4, files, True)"
      ],
      "execution_count": null,
      "outputs": []
    },
    {
      "cell_type": "markdown",
      "metadata": {
        "id": "IgjIAnMVvzSA"
      },
      "source": [
        "# Problem 3 - Minimum Snap Quadrotor Trajectories\n",
        "\n"
      ]
    },
    {
      "cell_type": "code",
      "metadata": {
        "id": "syNil_kkELU4"
      },
      "source": [
        "# Install drake. We are using the lqr controller in drake as the final stabilizing controller.\n",
        "# The installation process will take about 2 minutes but it's only required in the start of the Colab's virtual machine.\n",
        "!curl -s https://raw.githubusercontent.com/mposa/MEAM517/master/colab_drake_setup.py > colab_drake_setup.py\n",
        "from colab_drake_setup import setup\n",
        "setup()"
      ],
      "execution_count": null,
      "outputs": []
    },
    {
      "cell_type": "code",
      "metadata": {
        "id": "hF2xb4_5Z3Pe"
      },
      "source": [
        "%matplotlib inline\n",
        "import numpy as np\n",
        "from math import atan2\n",
        "import matplotlib.pyplot as plt\n",
        "import importlib\n",
        "\n",
        "import minsnap\n",
        "importlib.reload(minsnap)\n",
        "from minsnap import minsnap\n",
        "\n",
        "n = 4;\n",
        "d = 14;\n",
        "\n",
        "w = np.zeros((n + 1, 2))\n",
        "dt = np.zeros(n)\n",
        "\n",
        "w[0] = np.array([-3,-4])\n",
        "w[1] = np.array([ 0, 0])\n",
        "w[2] = np.array([ 2, 3])\n",
        "w[3] = np.array([ 4, 0])\n",
        "w[4] = np.array([ 8, -4])\n",
        "\n",
        "dt[0] = 1;\n",
        "dt[1] = 1;\n",
        "dt[2] = 1;\n",
        "dt[3] = 1;\n",
        "\n",
        "# Target trajectory generation\n",
        "minsnap_trajectory = minsnap(n, d, w, dt)\n",
        "\n",
        "g = 9.81\n",
        "t0 = 0\n",
        "tf = sum(dt)\n",
        "n_points = 100\n",
        "t = np.linspace(t0, tf, n_points)\n",
        "\n",
        "fig = plt.figure(figsize=(4,3))\n",
        "ax = plt.axes()\n",
        "ax.scatter(w[:, 0], w[:, 1], c='r', label='waypoints')\n",
        "ax.plot(minsnap_trajectory(t)[:,0], minsnap_trajectory(t)[:,1], label='Trajectory')\n",
        "ax.legend()\n",
        "\n",
        "debugging = True\n",
        "# Set debugging to true to verify that the derivatives up to 5 are continuous\n",
        "if debugging:\n",
        "  fig2 = plt.figure(figsize=(4,3))\n",
        "  plt.plot(t, minsnap_trajectory(t,1)[:], label='1st derivative')\n",
        "  plt.legend()\n",
        "\n",
        "  fig3 = plt.figure(figsize=(4,3))\n",
        "  plt.plot(t, minsnap_trajectory(t,2)[:], label='2nd derivative')\n",
        "  plt.legend()\n",
        "\n",
        "  fig4 = plt.figure(figsize=(4,3))\n",
        "  plt.plot(t, minsnap_trajectory(t,3)[:], label='3rd derivative')\n",
        "  plt.legend()\n",
        "\n",
        "  fig5 = plt.figure(figsize=(4,3))\n",
        "  plt.plot(t, minsnap_trajectory(t,4)[:], label='4th derivative')\n",
        "  plt.legend()\n",
        "\n",
        "\n",
        "plt.show()\n"
      ],
      "execution_count": null,
      "outputs": []
    }
  ]
}