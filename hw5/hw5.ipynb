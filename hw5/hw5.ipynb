{
  "nbformat": 4,
  "nbformat_minor": 0,
  "metadata": {
    "colab": {
      "name": "hw5.ipynb",
      "provenance": [],
      "collapsed_sections": [],
      "toc_visible": true
    },
    "kernelspec": {
      "name": "python3",
      "display_name": "Python 3"
    }
  },
  "cells": [
    {
      "cell_type": "code",
      "metadata": {
        "id": "KNamOwyJonVw"
      },
      "source": [
        "! rm -rf sample_data; curl -s https://raw.githubusercontent.com/mposa/MEAM517/master/sync_hw.py > sync_hw.py\n",
        "files = [\"find_throwing_trajectory.py\", \"dynamics_constraints.py\", \"kinematic_constraints.py\", \"planar_arm.urdf\"]\n",
        "\n",
        "from sync_hw import sync_hw\n",
        "sync_hw(5, files, False)"
      ],
      "execution_count": null,
      "outputs": []
    },
    {
      "cell_type": "markdown",
      "metadata": {
        "id": "x3Tcsjk83k0K"
      },
      "source": [
        "# Problem 4 - Trajectory Optimization for a planar arm"
      ]
    },
    {
      "cell_type": "code",
      "metadata": {
        "id": "UngEHU4S3rGv"
      },
      "source": [
        "# Install drake. We are using the lqr controller in drake as the final stabilizing controller.\n",
        "# The installation process will take about 2 minutes but it's only required in the start of the Colab's virtual machine.\n",
        "!curl -s https://raw.githubusercontent.com/mposa/MEAM517/master/colab_drake_setup.py > colab_drake_setup.py\n",
        "from colab_drake_setup import setup\n",
        "setup()\n",
        "\n",
        "\n",
        "# Install pyngrok.\n",
        "server_args = []\n",
        "!pip install pyngrok\n",
        "server_args = ['--ngrok_http_tunnel']\n",
        "\n",
        "# TODO(russt): Consider teaching meshcat how to open the window on colab.\n",
        "def open_window(url, name):\n",
        "    # This has the benefit of not persisting between notebooks if the output \n",
        "    # is accidentally saved.\n",
        "    from google.colab import output\n",
        "    output.eval_js(f'window.open(\"{url}\", name);', ignore_result=True)"
      ],
      "execution_count": null,
      "outputs": []
    },
    {
      "cell_type": "code",
      "metadata": {
        "id": "j4CWTdTKL7Wr"
      },
      "source": [
        "# Start a single meshcat server instance to use for the remainder of this notebook.\n",
        "from meshcat.servers.zmqserver import start_zmq_server_as_subprocess\n",
        "proc, zmq_url, web_url = start_zmq_server_as_subprocess(server_args=server_args)"
      ],
      "execution_count": null,
      "outputs": []
    },
    {
      "cell_type": "markdown",
      "metadata": {
        "id": "sxazCuooK6NZ"
      },
      "source": [
        "# Compute the end effector (the ball) position and velocity using symbolic variables\n",
        "\n",
        "This is how we get the expression in `kinematic_constraints.py`"
      ]
    },
    {
      "cell_type": "code",
      "metadata": {
        "id": "pU1oSkHGXelL"
      },
      "source": [
        "# Computes the end effector velocity as xdot, ydot J_q (pos) * qdot\n",
        "\n",
        "from sympy import *\n",
        "import numpy as np\n",
        "\n",
        "l, q0, q1, q2, qdot0, qdot1, qdot2 = symbols('l q0 q1 q2 qdot0 qdot1 qdot2', real=True)\n",
        "pos = l * np.array([sin(q0), -cos(q0)]) + l * np.array([sin(q0 + q1), -cos(q0 + q1)]) + l * np.array([sin(q0 + q1 + q2), -cos(q0 + q1 + q2)])\n",
        "vel = (Matrix(pos).jacobian([q0, q1, q2]) @ np.reshape(np.array([qdot0, qdot1, qdot2]), (3,1)))\n",
        "\n",
        "print('pos (x_ball, z_ball):', pos)\n",
        "print('vel (x_ball dot, z_ball dot):', vel)"
      ],
      "execution_count": null,
      "outputs": []
    },
    {
      "cell_type": "markdown",
      "metadata": {
        "id": "IytDsl_ZKyzv"
      },
      "source": [
        "# Run trajectory optimization to find the optimal trajectory"
      ]
    },
    {
      "cell_type": "code",
      "metadata": {
        "id": "LzA3hw7Rh2t_"
      },
      "source": [
        "import matplotlib.pyplot as plt\n",
        "import numpy as np\n",
        "import importlib\n",
        "\n",
        "from pydrake.solvers.mathematicalprogram import MathematicalProgram, Solve\n",
        "from pydrake.systems.framework import DiagramBuilder\n",
        "from pydrake.systems.analysis import Simulator\n",
        "\n",
        "from pydrake.all import (\n",
        "    DiagramBuilder, Simulator\n",
        ")\n",
        "\n",
        "from pydrake.multibody.tree import (\n",
        "    JointActuatorIndex\n",
        ")\n",
        "\n",
        "from pydrake.geometry import SceneGraph\n",
        "from pydrake.common import FindResourceOrThrow\n",
        "from pydrake.multibody.plant import MultibodyPlant\n",
        "from pydrake.multibody.parsing import Parser\n",
        "from pydrake.trajectories import PiecewisePolynomial\n",
        "from pydrake.solvers.snopt import SnoptSolver\n",
        "\n",
        "\n",
        "import kinematic_constraints\n",
        "import dynamics_constraints\n",
        "importlib.reload(kinematic_constraints)\n",
        "importlib.reload(dynamics_constraints)\n",
        "from kinematic_constraints import (\n",
        "  AddFinalLandingPositionConstraint\n",
        ")\n",
        "from dynamics_constraints import (\n",
        "  AddCollocationConstraints,\n",
        "  EvaluateDynamics\n",
        ")\n",
        "\n",
        "\n",
        "def find_throwing_trajectory(N, initial_state, distance, tf):\n",
        "  '''\n",
        "  Parameters:\n",
        "    N - number of knot points\n",
        "    initial_state - starting configuration\n",
        "    distance - target distance to throw the ball\n",
        "\n",
        "  '''\n",
        "\n",
        "  builder = DiagramBuilder()\n",
        "  plant = builder.AddSystem(MultibodyPlant(0.0))\n",
        "  file_name = \"planar_arm.urdf\"\n",
        "  Parser(plant=plant).AddModelFromFile(file_name)\n",
        "  plant.Finalize()\n",
        "  planar_arm = plant.ToAutoDiffXd()\n",
        "\n",
        "  plant_context = plant.CreateDefaultContext()\n",
        "  context = planar_arm.CreateDefaultContext()\n",
        "\n",
        "  # Dimensions specific to the planar_arm\n",
        "  n_x = planar_arm.num_positions() + planar_arm.num_velocities()\n",
        "  n_u = planar_arm.num_actuators()\n",
        "\n",
        "  # Store the actuator limits here\n",
        "  effort_limits = np.zeros(n_u)\n",
        "  for act_idx in range(n_u):\n",
        "    effort_limits[act_idx] = \\\n",
        "      planar_arm.get_joint_actuator(JointActuatorIndex(act_idx)).effort_limit()\n",
        "  vel_limits = 15 * np.ones(n_x // 2)\n",
        "\n",
        "  # Create the mathematical program\n",
        "  prog = MathematicalProgram()\n",
        "  x = np.zeros((N, n_x), dtype=\"object\")\n",
        "  u = np.zeros((N, n_u), dtype=\"object\")\n",
        "  for i in range(N):\n",
        "    x[i] = prog.NewContinuousVariables(n_x, \"x_\" + str(i))\n",
        "    u[i] = prog.NewContinuousVariables(n_u, \"u_\" + str(i))\n",
        "\n",
        "  t_land = prog.NewContinuousVariables(1, \"t_land\")\n",
        "\n",
        "  t0 = 0.0\n",
        "  timesteps = np.linspace(t0, tf, N)\n",
        "  x0 = x[0]\n",
        "  xf = x[-1]\n",
        "\n",
        "\n",
        "  # Add the kinematic constraints (initial state, final state)\n",
        "  # TODO: Add constraints on the initial state\n",
        "  \n",
        "  # Add the kinematic constraint on the final state\n",
        "  AddFinalLandingPositionConstraint(prog, xf, distance, t_land)\n",
        "\n",
        "  # Add the collocation aka dynamics constraints\n",
        "  AddCollocationConstraints(prog, planar_arm, context, N, x, u, timesteps)\n",
        "\n",
        "  # TODO: Add the cost function here\n",
        "\n",
        "  # TODO: Add bounding box constraints on the inputs and qdot \n",
        "\n",
        "  # TODO: give the solver an initial guess for x and u using prog.SetInitialGuess(var, value)\n",
        "\n",
        "  # Set up solver\n",
        "  solver = SnoptSolver()\n",
        "  result = solver.Solve(prog)\n",
        "  \n",
        "  x_sol = result.GetSolution(x)\n",
        "  u_sol = result.GetSolution(u)\n",
        "  t_land_sol = result.GetSolution(t_land)\n",
        "\n",
        "  print(result.get_solution_result())\n",
        "\n",
        "  # Reconstruct the trajecotry as a cubic hermite spline\n",
        "  xdot_sol = np.zeros(x_sol.shape)\n",
        "  for i in range(N):\n",
        "    xdot_sol[i] = EvaluateDynamics(plant, plant_context, x_sol[i], u_sol[i])\n",
        "  \n",
        "  x_traj = PiecewisePolynomial.CubicHermite(timesteps, x_sol.T, xdot_sol.T)\n",
        "  u_traj = PiecewisePolynomial.ZeroOrderHold(timesteps, u_sol.T)\n",
        "\n",
        "  return x_traj, u_traj, prog, prog.GetInitialGuess(x), prog.GetInitialGuess(u)\n",
        "  \n",
        "if __name__ == '__main__':\n",
        "  N = 7\n",
        "  initial_state = np.zeros(6)\n",
        "  tf = 5.0\n",
        "  distance = 25.0\n",
        "  x_traj, u_traj, prog, x_guess, u_guess = find_throwing_trajectory(N, initial_state, distance, tf)\n"
      ],
      "execution_count": null,
      "outputs": []
    },
    {
      "cell_type": "markdown",
      "metadata": {
        "id": "zJY35uB9Knbb"
      },
      "source": [
        "# Visualize the optimal trajectory"
      ]
    },
    {
      "cell_type": "code",
      "metadata": {
        "id": "wH3531RbH_sS"
      },
      "source": [
        "%matplotlib notebook\n",
        "import matplotlib.pyplot as plt\n",
        "import numpy as np\n",
        "import time\n",
        "from pydrake.systems.framework import DiagramBuilder\n",
        "from pydrake.systems.analysis import Simulator\n",
        "from pydrake.systems.drawing import plot_system_graphviz\n",
        "\n",
        "from pydrake.all import ( \n",
        "  ConnectMeshcatVisualizer, DiagramBuilder, \n",
        "  Simulator\n",
        ")\n",
        "\n",
        "from pydrake.geometry import (\n",
        "  SceneGraph, ConnectDrakeVisualizer\n",
        ")\n",
        "\n",
        "from pydrake.common import FindResourceOrThrow\n",
        "from pydrake.multibody.plant import MultibodyPlant\n",
        "from pydrake.multibody.parsing import Parser\n",
        "from pydrake.systems.rendering import MultibodyPositionToGeometryPose\n",
        "from pydrake.systems.primitives import (\n",
        "  TrajectorySource,\n",
        "  Demultiplexer,\n",
        "  ConstantVectorSource\n",
        ")\n",
        "\n",
        "# \"\"\"Cart-Pole with simple geometry.\"\"\"\n",
        "file_name = \"planar_arm.urdf\"\n",
        "builder = DiagramBuilder()\n",
        "scene_graph = builder.AddSystem(SceneGraph())\n",
        "planar_arm = builder.AddSystem(MultibodyPlant(0.0))\n",
        "planar_arm.RegisterAsSourceForSceneGraph(scene_graph)\n",
        "Parser(plant=planar_arm).AddModelFromFile(file_name)\n",
        "planar_arm.Finalize()\n",
        "\n",
        "# Create meshcat\n",
        "visualizer = ConnectMeshcatVisualizer(\n",
        "    builder, \n",
        "    scene_graph, \n",
        "    scene_graph.get_pose_bundle_output_port(),\n",
        "    zmq_url=\"new\",\n",
        "    server_args=server_args)\n",
        "\n",
        "x_traj_source = builder.AddSystem(TrajectorySource(x_traj))\n",
        "u_traj_source = builder.AddSystem(TrajectorySource(u_traj))\n",
        "\n",
        "demux = builder.AddSystem(Demultiplexer(np.array([3, 3])))\n",
        "to_pose = builder.AddSystem(MultibodyPositionToGeometryPose(planar_arm))\n",
        "zero_inputs = builder.AddSystem(ConstantVectorSource(np.zeros(3)))\n",
        "\n",
        "builder.Connect(zero_inputs.get_output_port(), planar_arm.get_actuation_input_port())\n",
        "builder.Connect(x_traj_source.get_output_port(), demux.get_input_port())\n",
        "builder.Connect(demux.get_output_port(0), to_pose.get_input_port())\n",
        "builder.Connect(to_pose.get_output_port(), scene_graph.get_source_pose_port(planar_arm.get_source_id()))\n",
        "\n",
        "ConnectDrakeVisualizer(builder, scene_graph);\n",
        "\n",
        "diagram = builder.Build()\n",
        "diagram.set_name(\"diagram\")\n",
        "\n",
        "# Set up a simulator to run this diagram.\n",
        "\n",
        "# Open the meshcat visualizer window (check your pop-up blocker).\n",
        "open_window(visualizer.vis.url(), \"meshcat\")\n",
        "\n",
        "for i in range(3):\n",
        "  simulator = Simulator(diagram)\n",
        "  simulator.Initialize()\n",
        "  simulator.set_target_realtime_rate(0.5)\n",
        "  simulator.AdvanceTo(tf);\n",
        "  time.sleep(5)\n"
      ],
      "execution_count": null,
      "outputs": []
    }
  ]
}